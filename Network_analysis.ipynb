{
 "cells": [
  {
   "cell_type": "code",
   "execution_count": 79,
   "id": "6fb06a13",
   "metadata": {},
   "outputs": [],
   "source": [
    "import matplotlib.pyplot as plt\n",
    "import pandas as pd"
   ]
  },
  {
   "cell_type": "code",
   "execution_count": 80,
   "id": "5587c872",
   "metadata": {},
   "outputs": [],
   "source": [
    "resolutions = [37, 64, 128, 256]\n",
    "regions = ['c', 'a']\n",
    "temp_res = '24H'\n",
    "attributes = [\"costs\", \"energy\", \"capacity\", \"supply_energy\", \"supply\", \"curtailment\"]\n",
    "lv = 'copt'"
   ]
  },
  {
   "cell_type": "code",
   "execution_count": 81,
   "id": "2d2acc59",
   "metadata": {},
   "outputs": [],
   "source": [
    "dict_attr = dict()\n",
    "for region in regions:\n",
    "    dict_attr[region] = dict()\n",
    "    for attr in attributes:\n",
    "        df_attr = pd.DataFrame()\n",
    "        for resolution in resolutions:\n",
    "            attr_res = pd.read_csv(f\"results/summaries/elec_s_{resolution}_{region}_ec_l{lv}_Co2L-{temp_res}_all/{attr}.csv\")\n",
    "            attr_res[\"resolution\"] = resolution\n",
    "            df_attr = df_attr.append(attr_res)\n",
    "\n",
    "        df_attr = df_attr.drop([0,1,2,3])\n",
    "\n",
    "        if attr == \"costs\":\n",
    "            df_attr.rename(columns = {'simpl':'tech_type','Unnamed: 1':'cost_type', 'Unnamed: 2':'technology','Unnamed: 3':attr}, inplace = True)\n",
    "        elif (attr == \"energy\" or attr == \"capacity\"):\n",
    "            df_attr.rename(columns = {'simpl':'tech_type','Unnamed: 1':'technology', 'Unnamed: 2': attr}, inplace = True)\n",
    "        elif (attr == \"supply_energy\" or attr == \"supply\" ):\n",
    "            df_attr.rename(columns = {'simpl':'carrier','Unnamed: 1':'technology_type', 'Unnamed: 2':'technology','Unnamed: 3':attr }, inplace = True)\n",
    "        elif attr == \"curtailment\":\n",
    "            df_attr.rename(columns = {'simpl':'technology','Unnamed: 1':attr}, inplace = True)\n",
    "\n",
    "        df_attr[attr] = df_attr[attr].astype(float)\n",
    "\n",
    "        dict_attr[region][attr] = df_attr.reset_index()\n",
    "        \n",
    "    "
   ]
  },
  {
   "cell_type": "code",
   "execution_count": 91,
   "id": "915477aa",
   "metadata": {},
   "outputs": [],
   "source": [
    "#Let's start with total cost\n",
    "for regions_method in regions:\n",
    "    df_attr = dict_attr[regions_method][\"costs\"]\n",
    "    tot_c[regions_method] =  df_attr.groupby([\"resolution\"])[\"costs\"].sum()\n"
   ]
  },
  {
   "cell_type": "code",
   "execution_count": 224,
   "id": "4132f062",
   "metadata": {
    "scrolled": true
   },
   "outputs": [
    {
     "data": {
      "text/plain": [
       "Text(0.5, 1.0, 'Cost comparison')"
      ]
     },
     "execution_count": 224,
     "metadata": {},
     "output_type": "execute_result"
    },
    {
     "data": {
      "image/png": "[encoded data removed]",
      "text/plain": [
       "<Figure size 432x288 with 1 Axes>"
      ]
     },
     "metadata": {
      "needs_background": "light"
     },
     "output_type": "display_data"
    }
   ],
   "source": [
    "total_cost_fig = plt.subplot()\n",
    "for region in regions[:]:\n",
    "    total_cost_fig.plot(tot_c[region],label = region)\n",
    "plt.legend()\n",
    "plt.xlabel(\"Network Resolution\")\n",
    "plt.ylabel(\"Total system cost (Euros)\")\n",
    "plt.title(\"Cost comparison\")"
   ]
  },
  {
   "cell_type": "code",
   "execution_count": 119,
   "id": "6cb2c79d",
   "metadata": {},
   "outputs": [],
   "source": [
    "#And continue with some more specific costs \n",
    "for region_method in regions: \n",
    "    df_attr = dict_attr[region_method][\"costs\"]\n",
    "    #Line costs\n",
    "    lc[region_method] =  df_attr.groupby([\"technology\",\"resolution\"])[\"costs\"].sum()[\"lines\"]\n",
    "\n",
    "    solarc[region_method] =  df_attr.groupby([\"technology\",\"resolution\"])[\"costs\"].sum()[\"solar\"]\n",
    "    onwind_c[region_method] =  df_attr.groupby([\"technology\",\"resolution\"])[\"costs\"].sum()[\"onwind\"]\n",
    "    offwind_c[region_method] =  df_attr.groupby([\"technology\",\"resolution\"])[\"costs\"].sum()[\"offwind-ac\"] \\\n",
    "                 +  df_attr.groupby([\"technology\",\"resolution\"])[\"costs\"].sum()[\"offwind-dc\"]\n",
    "\n",
    "    ren[region_method] = solarc[region_method] + onwind_c[region_method] + offwind_c[region_method]\n",
    "\n",
    "    CCGT_c[region_method] = df_attr.groupby([\"technology\",\"resolution\"])[\"costs\"].sum()[\"CCGT\"]\n",
    "    OCGT_c[region_method] = df_attr.groupby([\"technology\",\"resolution\"])[\"costs\"].sum()[\"OCGT\"]\n",
    "    nuclear[region_method] = df_attr.groupby([\"technology\",\"resolution\"])[\"costs\"].sum()[\"nuclear\"]\n",
    "\n",
    "    conventional[region_method] = CCGT_c[region_method] + OCGT_c[region_method] + nuclear[region_method]\n",
    "\n",
    "    hydroPHS[region_method] = df_attr.groupby([\"technology\",\"resolution\"])[\"costs\"].sum()[\"hydro+PHS\"]\n",
    "    ror[region_method] = df_attr.groupby([\"technology\",\"resolution\"])[\"costs\"].sum()[\"ror\"]"
   ]
  },
  {
   "cell_type": "code",
   "execution_count": 127,
   "id": "536af922",
   "metadata": {},
   "outputs": [],
   "source": [
    "pivot_dict = dict()\n",
    "for region_method in regions: \n",
    "    df_attr = dict_attr[region_method][\"costs\"]\n",
    "    pivot_dict[region_method] = df_attr.pivot_table(index = 'resolution', columns = 'technology',values= 'costs', aggfunc = 'sum')\n",
    "    pivot_dict[region_method][\"offwind\"] = pivot_dict[region_method][\"offwind-ac\"] + pivot_dict[region_method][\"offwind-dc\"]\n",
    "    pivot_dict[region_method][\"H2\"] = pivot_dict[region_method][\"H2\"] + pivot_dict[region_method][\"H2 electrolysis\"]+ pivot_dict[region_method][\"H2 fuel cell\"]\n",
    "    pivot_dict[region_method][\"Hydro\"] = pivot_dict[region_method][\"hydro+PHS\"]"
   ]
  },
  {
   "cell_type": "code",
   "execution_count": 219,
   "id": "9fb9a160",
   "metadata": {},
   "outputs": [],
   "source": [
    "tech_selection = [\"lines\", \"solar\", \"onwind\"]#, \"OCGT\", \"nuclear\", \"Hydro\", \"battery\", \"offwind\",  \"CCGT\", \"nuclear\"]"
   ]
  },
  {
   "cell_type": "code",
   "execution_count": 223,
   "id": "b627b05f",
   "metadata": {},
   "outputs": [
    {
     "data": {
      "text/plain": [
       "[Text(0.5, 0, 'resolution'),\n",
       " (12500000000.0, 27500000000.0),\n",
       " Text(0.5, 1.0, 'Renewable-based')]"
      ]
     },
     "execution_count": 223,
     "metadata": {},
     "output_type": "execute_result"
    },
    {
     "data": {
      "image/png": "[encoded data removed]",
      "text/plain": [
       "<Figure size 432x288 with 2 Axes>"
      ]
     },
     "metadata": {
      "needs_background": "light"
     },
     "output_type": "display_data"
    }
   ],
   "source": [
    "fig,axs = plt.subplots(1,2)\n",
    "y_scale = [1.25e10, 2.75e10]\n",
    "#y_scale = [0, 2.75e10]\n",
    "axs[0].plot(pivot_dict['c'][tech_selection],label = tech_selection)\n",
    "#axs[0] = pivot_dict['c'][tech_selection].plot()\n",
    "axs[0].set(xlabel = \"resolution\",ylabel = \"Cost\",ylim = y_scale, title = \"Country-based\")\n",
    "axs[0].legend()\n",
    "axs[1].plot(pivot_dict['a'][tech_selection])\n",
    "axs[1].set(xlabel = \"resolution\",ylim = y_scale, title = \"Renewable-based\")\n"
   ]
  },
  {
   "cell_type": "code",
   "execution_count": 181,
   "id": "bd18fd50",
   "metadata": {},
   "outputs": [
    {
     "data": {
      "text/plain": [
       "<AxesSubplot:xlabel='resolution', ylabel='Cost'>"
      ]
     },
     "execution_count": 181,
     "metadata": {},
     "output_type": "execute_result"
    }
   ],
   "source": [
    "axs[0]"
   ]
  },
  {
   "cell_type": "code",
   "execution_count": 167,
   "id": "2610e0d8",
   "metadata": {},
   "outputs": [
    {
     "data": {
      "text/plain": [
       "<AxesSubplot:xlabel='resolution'>"
      ]
     },
     "execution_count": 167,
     "metadata": {},
     "output_type": "execute_result"
    },
    {
     "data": {
      "image/png": "[encoded data removed]",
      "text/plain": [
       "<Figure size 432x288 with 1 Axes>"
      ]
     },
     "metadata": {
      "needs_background": "light"
     },
     "output_type": "display_data"
    }
   ],
   "source": [
    "pivot_dict['a'][tech_selection].plot()"
   ]
  },
  {
   "cell_type": "code",
   "execution_count": 137,
   "id": "430de8e7",
   "metadata": {},
   "outputs": [
    {
     "ename": "AttributeError",
     "evalue": "module 'matplotlib.pyplot' has no attribute 'area'",
     "output_type": "error",
     "traceback": [
      "\u001b[1;31m---------------------------------------------------------------------------\u001b[0m",
      "\u001b[1;31mAttributeError\u001b[0m                            Traceback (most recent call last)",
      "\u001b[1;32m~\\AppData\\Local\\Temp/ipykernel_13404/4043467626.py\u001b[0m in \u001b[0;36m<module>\u001b[1;34m\u001b[0m\n\u001b[1;32m----> 1\u001b[1;33m \u001b[0mplt\u001b[0m\u001b[1;33m.\u001b[0m\u001b[0marea\u001b[0m\u001b[1;33m(\u001b[0m\u001b[1;33m)\u001b[0m\u001b[1;33m\u001b[0m\u001b[1;33m\u001b[0m\u001b[0m\n\u001b[0m",
      "\u001b[1;31mAttributeError\u001b[0m: module 'matplotlib.pyplot' has no attribute 'area'"
     ]
    }
   ],
   "source": []
  },
  {
   "cell_type": "code",
   "execution_count": 134,
   "id": "c46f8768",
   "metadata": {},
   "outputs": [
    {
     "data": {
      "text/plain": [
       "resolution  technology\n",
       "37          lines         2.270888e+10\n",
       "            solar         2.497819e+10\n",
       "            onwind        2.756200e+10\n",
       "            offwind       8.158029e+03\n",
       "            CCGT          6.676427e+06\n",
       "            OCGT          5.273115e+05\n",
       "            nuclear       1.856611e+10\n",
       "            Hydro         2.476561e+10\n",
       "            ror           9.349921e+09\n",
       "            battery       1.874643e+03\n",
       "64          lines         2.154378e+10\n",
       "            solar         2.644042e+10\n",
       "            onwind        2.636792e+10\n",
       "            offwind       2.978478e+04\n",
       "            CCGT          1.953695e+08\n",
       "            OCGT          3.235135e+05\n",
       "            nuclear       1.839567e+10\n",
       "            Hydro         2.476550e+10\n",
       "            ror           9.349893e+09\n",
       "            battery       8.165766e+03\n",
       "128         lines         2.117485e+10\n",
       "            solar         2.586060e+10\n",
       "            onwind        2.634642e+10\n",
       "            offwind       1.948587e+04\n",
       "            CCGT          9.425697e+08\n",
       "            OCGT          5.165253e+05\n",
       "            nuclear       1.826455e+10\n",
       "            Hydro         2.476542e+10\n",
       "            ror           9.349903e+09\n",
       "            battery       4.502446e+03\n",
       "256         lines         1.990089e+10\n",
       "            solar         2.383280e+10\n",
       "            onwind        2.709821e+10\n",
       "            offwind       5.040879e+04\n",
       "            CCGT          1.063506e+09\n",
       "            OCGT          1.497380e+06\n",
       "            nuclear       1.819050e+10\n",
       "            Hydro         2.476543e+10\n",
       "            ror           9.349928e+09\n",
       "            battery       1.784993e+04\n",
       "dtype: float64"
      ]
     },
     "execution_count": 134,
     "metadata": {},
     "output_type": "execute_result"
    }
   ],
   "source": [
    "ax"
   ]
  }
 ],
 "metadata": {
  "kernelspec": {
   "display_name": "Python 3 (ipykernel)",
   "language": "python",
   "name": "python3"
  },
  "language_info": {
   "codemirror_mode": {
    "name": "ipython",
    "version": 3
   },
   "file_extension": ".py",
   "mimetype": "text/x-python",
   "name": "python",
   "nbconvert_exporter": "python",
   "pygments_lexer": "ipython3",
   "version": "3.9.7"
  }
 },
 "nbformat": 4,
 "nbformat_minor": 5
}
